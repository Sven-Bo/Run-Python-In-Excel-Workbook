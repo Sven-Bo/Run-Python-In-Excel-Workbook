{
 "cells": [
  {
   "cell_type": "markdown",
   "metadata": {
    "heading_collapsed": true
   },
   "source": [
    "# 🚀 How to Run Python in an Open Workbook "
   ]
  },
  {
   "cell_type": "markdown",
   "metadata": {
    "hidden": true
   },
   "source": [
    "We will be using the **`xlwings`** library to connect to an Excel workbook<br>\n",
    "**`xlwings`**  is an open-source Python library that makes it easy to **`automate Excel with Python`**😎<br><br>\n",
    "👉 Link to Documentation: https://docs.xlwings.org/en/stable/index.html"
   ]
  },
  {
   "cell_type": "markdown",
   "metadata": {
    "heading_collapsed": true,
    "hidden": true
   },
   "source": [
    "### Datasets  [for demonstration purposes]"
   ]
  },
  {
   "cell_type": "markdown",
   "metadata": {
    "heading_collapsed": true,
    "hidden": true
   },
   "source": [
    "#### Install Packages"
   ]
  },
  {
   "cell_type": "code",
   "execution_count": null,
   "metadata": {
    "hidden": true
   },
   "outputs": [],
   "source": [
    "# Install packages into the instance of Python that launched the notebook\n",
    "# !pip install pandas --quiet\n",
    "# !pip install yfinance --quiet"
   ]
  },
  {
   "cell_type": "markdown",
   "metadata": {
    "heading_collapsed": true,
    "hidden": true
   },
   "source": [
    "#### 1. Stock Market Data 📈"
   ]
  },
  {
   "cell_type": "code",
   "execution_count": null,
   "metadata": {
    "hidden": true
   },
   "outputs": [],
   "source": [
    "# Import libaries\n",
    "import pandas as pd\n",
    "import yfinance as yf"
   ]
  },
  {
   "cell_type": "code",
   "execution_count": null,
   "metadata": {
    "hidden": true
   },
   "outputs": [],
   "source": [
    "# Get Stockdata (only adjusted close)\n",
    "def retrieve_stock_data(ticker_symbol):\n",
    "    df = yf.download(ticker_symbol,\n",
    "                     start='2020-12-01',\n",
    "                     end='2020-12-31',\n",
    "                     progress=False)[['Adj Close']]\n",
    "    df = df.rename(columns={\"Adj Close\": f\"Adj Close {ticker_symbol}\"})\n",
    "    return df\n",
    "\n",
    "df = retrieve_stock_data('TSLA')"
   ]
  },
  {
   "cell_type": "code",
   "execution_count": null,
   "metadata": {
    "hidden": true
   },
   "outputs": [],
   "source": [
    "# Print out head\n",
    "df.head()"
   ]
  },
  {
   "cell_type": "markdown",
   "metadata": {
    "heading_collapsed": true,
    "hidden": true
   },
   "source": [
    "#### 2. MPG Dataset  🚗"
   ]
  },
  {
   "cell_type": "code",
   "execution_count": null,
   "metadata": {
    "hidden": true
   },
   "outputs": [],
   "source": [
    "mpg = pd.read_csv('https://raw.githubusercontent.com/mwaskom/seaborn-data/master/mpg.csv')\n",
    "mpg"
   ]
  },
  {
   "cell_type": "markdown",
   "metadata": {
    "heading_collapsed": true
   },
   "source": [
    "# 0. Installation & Import of xlwings"
   ]
  },
  {
   "cell_type": "code",
   "execution_count": null,
   "metadata": {
    "hidden": true
   },
   "outputs": [],
   "source": [
    "# Install xlwings into the instance of Python that launched the notebook\n",
    "# xlwings comes preinstalled with Anaconda. Make sure to update your version to use the latest features\n",
    "!pip install xlwings --upgrade --quiet "
   ]
  },
  {
   "cell_type": "code",
   "execution_count": null,
   "metadata": {
    "hidden": true
   },
   "outputs": [],
   "source": [
    "# Import xlwings\n",
    "import xlwings as xw"
   ]
  },
  {
   "cell_type": "markdown",
   "metadata": {
    "heading_collapsed": true
   },
   "source": [
    "# 1. Quick & Easy Way"
   ]
  },
  {
   "cell_type": "code",
   "execution_count": null,
   "metadata": {
    "hidden": true
   },
   "outputs": [],
   "source": [
    "# Check datafrane\n",
    "mpg"
   ]
  },
  {
   "cell_type": "code",
   "execution_count": null,
   "metadata": {
    "hidden": true
   },
   "outputs": [],
   "source": [
    "# View Dataset in Excel\n",
    "xw.view(mpg)"
   ]
  },
  {
   "cell_type": "code",
   "execution_count": null,
   "metadata": {
    "hidden": true
   },
   "outputs": [],
   "source": [
    "# View Dataset in Excel\n",
    "xw.view(df)"
   ]
  },
  {
   "cell_type": "code",
   "execution_count": null,
   "metadata": {
    "hidden": true
   },
   "outputs": [],
   "source": [
    "# Load selected data into pandas dataframe (New in version 0.22.0.)\n",
    "ticker_df = xw.load()"
   ]
  },
  {
   "cell_type": "code",
   "execution_count": null,
   "metadata": {
    "hidden": true
   },
   "outputs": [],
   "source": [
    "# Print ticker_df\n",
    "ticker_df"
   ]
  },
  {
   "cell_type": "code",
   "execution_count": null,
   "metadata": {
    "hidden": true
   },
   "outputs": [],
   "source": [
    "# Check type of ticker_df\n",
    "type(ticker_df)"
   ]
  },
  {
   "cell_type": "markdown",
   "metadata": {
    "heading_collapsed": true
   },
   "source": [
    "# 2. Connect to Excel Workbook"
   ]
  },
  {
   "cell_type": "markdown",
   "metadata": {
    "heading_collapsed": true,
    "hidden": true
   },
   "source": [
    "## Three different scenarios [New Book, Unsaved Book, Saved Book]"
   ]
  },
  {
   "cell_type": "markdown",
   "metadata": {
    "hidden": true
   },
   "source": [
    "|  | xw.Book |\n",
    "| :- | :- |\n",
    "| New Book | xw.Book() |\n",
    "| Unsaved book | xw.Book('Book1') |\n",
    "| Book by (full)name | xw.Book(r'C:/path/to/file.xlsx')|\n"
   ]
  },
  {
   "cell_type": "markdown",
   "metadata": {
    "hidden": true
   },
   "source": [
    "👉 **`xlwings`** Documentation: https://docs.xlwings.org/en/stable/connect_to_workbook.html"
   ]
  },
  {
   "cell_type": "markdown",
   "metadata": {
    "heading_collapsed": true,
    "hidden": true
   },
   "source": [
    "## 2.1 Connect to new workbook"
   ]
  },
  {
   "cell_type": "code",
   "execution_count": null,
   "metadata": {
    "hidden": true
   },
   "outputs": [],
   "source": [
    "# Open up a new Excel Workbook\n",
    "wb = xw.Book()"
   ]
  },
  {
   "cell_type": "code",
   "execution_count": null,
   "metadata": {
    "hidden": true
   },
   "outputs": [],
   "source": [
    "# Define sheet\n",
    "sht = wb.sheets[0]"
   ]
  },
  {
   "cell_type": "code",
   "execution_count": null,
   "metadata": {
    "hidden": true
   },
   "outputs": [],
   "source": [
    "# Write Data to cell A1\n",
    "sht.range(\"A1\").value = ticker_df"
   ]
  },
  {
   "cell_type": "markdown",
   "metadata": {
    "heading_collapsed": true,
    "hidden": true
   },
   "source": [
    "## 2.2 Connect to an open, but unsaved workbook"
   ]
  },
  {
   "cell_type": "code",
   "execution_count": null,
   "metadata": {
    "hidden": true
   },
   "outputs": [],
   "source": [
    "# Connect to unsaved workbook\n",
    "wb = xw.Book(\"Book2\")"
   ]
  },
  {
   "cell_type": "code",
   "execution_count": null,
   "metadata": {
    "hidden": true
   },
   "outputs": [],
   "source": [
    "wb"
   ]
  },
  {
   "cell_type": "code",
   "execution_count": null,
   "metadata": {
    "hidden": true
   },
   "outputs": [],
   "source": [
    "# Define sheet\n",
    "sht = wb.sheets[0]"
   ]
  },
  {
   "cell_type": "code",
   "execution_count": null,
   "metadata": {
    "hidden": true
   },
   "outputs": [],
   "source": [
    "# Write stock data to worksheet\n",
    "sht.range(\"A1\").value = df"
   ]
  },
  {
   "cell_type": "code",
   "execution_count": null,
   "metadata": {
    "hidden": true
   },
   "outputs": [],
   "source": [
    "# Save Workbook\n",
    "wb.save('stocks.xlsx')"
   ]
  },
  {
   "cell_type": "code",
   "execution_count": null,
   "metadata": {
    "hidden": true
   },
   "outputs": [],
   "source": [
    "# Close Workbook\n",
    "wb.close()"
   ]
  },
  {
   "cell_type": "markdown",
   "metadata": {
    "heading_collapsed": true,
    "hidden": true
   },
   "source": [
    "## 2.3 Connect to an open and saved workbook"
   ]
  },
  {
   "cell_type": "code",
   "execution_count": null,
   "metadata": {
    "hidden": true
   },
   "outputs": [],
   "source": [
    "# Using pathlib (works on Mac & Windows)\n",
    "from pathlib import Path # Standardlibrary (no need to install)\n",
    "filename = Path(\"stocks.xlsx\")"
   ]
  },
  {
   "cell_type": "code",
   "execution_count": null,
   "metadata": {
    "hidden": true
   },
   "outputs": [],
   "source": [
    "# Connect & open a saved Workbook\n",
    "wb = xw.Book(filename)"
   ]
  },
  {
   "cell_type": "code",
   "execution_count": null,
   "metadata": {
    "hidden": true
   },
   "outputs": [],
   "source": [
    "# Specify Worksheet\n",
    "sht = wb.sheets['Sheet1']"
   ]
  },
  {
   "cell_type": "markdown",
   "metadata": {},
   "source": [
    "# 3. Practical Examples "
   ]
  },
  {
   "cell_type": "markdown",
   "metadata": {
    "heading_collapsed": true
   },
   "source": [
    "## 3.1 Basic Examples"
   ]
  },
  {
   "cell_type": "code",
   "execution_count": null,
   "metadata": {
    "hidden": true
   },
   "outputs": [],
   "source": [
    "# Add a new sheet\n",
    "sht = wb.sheets.add('Basic Examples')"
   ]
  },
  {
   "cell_type": "code",
   "execution_count": null,
   "metadata": {
    "hidden": true
   },
   "outputs": [],
   "source": [
    "# Read single cell from Excel\n",
    "ticker_symbol = sht.range('A1').value"
   ]
  },
  {
   "cell_type": "code",
   "execution_count": null,
   "metadata": {
    "hidden": true
   },
   "outputs": [],
   "source": [
    "# Print ticker_symbol\n",
    "ticker_symbol"
   ]
  },
  {
   "cell_type": "code",
   "execution_count": null,
   "metadata": {
    "hidden": true
   },
   "outputs": [],
   "source": [
    "# Read range from Excel\n",
    "ticker_symbol = sht.range('A1:A3').value"
   ]
  },
  {
   "cell_type": "code",
   "execution_count": null,
   "metadata": {
    "hidden": true
   },
   "outputs": [],
   "source": [
    "# Print ticker_symbol\n",
    "ticker_symbol"
   ]
  },
  {
   "cell_type": "code",
   "execution_count": null,
   "metadata": {
    "hidden": true
   },
   "outputs": [],
   "source": [
    "# Insert Formula\n",
    "sht.range('B1').formula = \"=A1\""
   ]
  },
  {
   "cell_type": "code",
   "execution_count": null,
   "metadata": {
    "hidden": true
   },
   "outputs": [],
   "source": [
    "# Read Name Range\n",
    "months = sht.range(\"months\").value"
   ]
  },
  {
   "cell_type": "code",
   "execution_count": null,
   "metadata": {
    "hidden": true
   },
   "outputs": [],
   "source": [
    "# Print out months\n",
    "months"
   ]
  },
  {
   "cell_type": "code",
   "execution_count": null,
   "metadata": {
    "hidden": true
   },
   "outputs": [],
   "source": [
    "# Create Name Range\n",
    "sht.range(\"A1:A3\").name = \"ticker_list\""
   ]
  },
  {
   "cell_type": "code",
   "execution_count": null,
   "metadata": {
    "hidden": true
   },
   "outputs": [],
   "source": [
    "# Read data from excel, store values in pandas dataframe\n",
    "new_df = sht.range('D2').options(pd.DataFrame, expand='table').value"
   ]
  },
  {
   "cell_type": "code",
   "execution_count": null,
   "metadata": {
    "hidden": true
   },
   "outputs": [],
   "source": [
    "# Check new_df\n",
    "new_df"
   ]
  },
  {
   "cell_type": "code",
   "execution_count": null,
   "metadata": {
    "hidden": true
   },
   "outputs": [],
   "source": [
    "# Save workbook as PDF\n",
    "wb.to_pdf('MyPDF')"
   ]
  },
  {
   "cell_type": "markdown",
   "metadata": {
    "heading_collapsed": true
   },
   "source": [
    "## 3.2 Plot Stockprice in Excel Workbook"
   ]
  },
  {
   "cell_type": "code",
   "execution_count": null,
   "metadata": {
    "hidden": true
   },
   "outputs": [],
   "source": [
    "# Install packages into the instance of Python that launched the notebook\n",
    "!pip install matplotlib --quiet"
   ]
  },
  {
   "cell_type": "code",
   "execution_count": null,
   "metadata": {
    "hidden": true
   },
   "outputs": [],
   "source": [
    "# Import Matplotlib\n",
    "import matplotlib.pyplot as plt"
   ]
  },
  {
   "cell_type": "code",
   "execution_count": null,
   "metadata": {
    "hidden": true
   },
   "outputs": [],
   "source": [
    "# Get Adj Close Price for given Tickersymbol and store values in a dataframe\n",
    "df = retrieve_stock_data('GOOG')"
   ]
  },
  {
   "cell_type": "code",
   "execution_count": null,
   "metadata": {
    "hidden": true
   },
   "outputs": [],
   "source": [
    "# Check df\n",
    "df.head()"
   ]
  },
  {
   "cell_type": "code",
   "execution_count": null,
   "metadata": {
    "hidden": true
   },
   "outputs": [],
   "source": [
    "# Plot Adj. Close Price\n",
    "fig = df.plot(figsize=(12,8))"
   ]
  },
  {
   "cell_type": "code",
   "execution_count": null,
   "metadata": {
    "hidden": true
   },
   "outputs": [],
   "source": [
    "# Get Figure Object\n",
    "fig = fig.get_figure()"
   ]
  },
  {
   "cell_type": "code",
   "execution_count": null,
   "metadata": {
    "hidden": true
   },
   "outputs": [],
   "source": [
    "# Add a new sheet\n",
    "sht = wb.sheets.add('Plot Stockprice')"
   ]
  },
  {
   "cell_type": "code",
   "execution_count": null,
   "metadata": {
    "hidden": true
   },
   "outputs": [],
   "source": [
    "# Add Picture to Excel\n",
    "sht.pictures.add(fig, \n",
    "                 name='Stockprice', \n",
    "                 update=True)"
   ]
  },
  {
   "cell_type": "markdown",
   "metadata": {
    "heading_collapsed": true
   },
   "source": [
    "## 3.3 Connect Workbook to API's"
   ]
  },
  {
   "cell_type": "code",
   "execution_count": null,
   "metadata": {
    "hidden": true
   },
   "outputs": [],
   "source": [
    "# Install package into the instance of Python that launched the notebook\n",
    "!pip install requests --quiet"
   ]
  },
  {
   "cell_type": "code",
   "execution_count": null,
   "metadata": {
    "hidden": true
   },
   "outputs": [],
   "source": [
    "# Imports\n",
    "import requests\n",
    "import urllib.request"
   ]
  },
  {
   "cell_type": "markdown",
   "metadata": {
    "heading_collapsed": true,
    "hidden": true
   },
   "source": [
    "### 3.3.1 Useless Fact"
   ]
  },
  {
   "cell_type": "code",
   "execution_count": null,
   "metadata": {
    "hidden": true
   },
   "outputs": [],
   "source": [
    "# Get Random Fact via API\n",
    "def get_useless_fact():\n",
    "    URL = \"https://uselessfacts.jsph.pl/random.json?language=en\"\n",
    "    useless_fact = requests.get(URL).json()['text']\n",
    "    return useless_fact"
   ]
  },
  {
   "cell_type": "code",
   "execution_count": null,
   "metadata": {
    "hidden": true
   },
   "outputs": [],
   "source": [
    "# Add New Worksheet\n",
    "sht = wb.sheets.add('API')"
   ]
  },
  {
   "cell_type": "code",
   "execution_count": null,
   "metadata": {
    "hidden": true
   },
   "outputs": [],
   "source": [
    "# Save Random Fact in Worksheet\n",
    "sht.range('A1').value = get_useless_fact()"
   ]
  },
  {
   "cell_type": "markdown",
   "metadata": {
    "heading_collapsed": true,
    "hidden": true
   },
   "source": [
    "### 3.3.1 Insert Image to Workbook (DOG API)"
   ]
  },
  {
   "cell_type": "code",
   "execution_count": null,
   "metadata": {
    "hidden": true
   },
   "outputs": [],
   "source": [
    "# Image location/name\n",
    "filename = Path(\"dog.jpg\")\n",
    "\n",
    "# Retrieve & Save Dog Image\n",
    "def get_dog_image(filename):\n",
    "    API = \"https://dog.ceo/api/breeds/image/random\" # API Link\n",
    "    URL = requests.get(API).json()['message'] # Get URL of dog image    \n",
    "    dog_image = urllib.request.urlretrieve(URL, filename) # Download dog image\n",
    "    return None"
   ]
  },
  {
   "cell_type": "code",
   "execution_count": null,
   "metadata": {
    "hidden": true
   },
   "outputs": [],
   "source": [
    "# Get a new dog iamge\n",
    "get_dog_image(filename)"
   ]
  },
  {
   "cell_type": "code",
   "execution_count": null,
   "metadata": {
    "hidden": true
   },
   "outputs": [],
   "source": [
    "# Insert image in Excel\n",
    "sht.pictures.add(filename.absolute(), # Path to Image\n",
    "                 name='Dog', # Name requiered to update the image\n",
    "                 update=True) # Updates the image"
   ]
  },
  {
   "cell_type": "markdown",
   "metadata": {
    "heading_collapsed": true
   },
   "source": [
    "## 3.4 Generate Automated Stock Reports"
   ]
  },
  {
   "cell_type": "code",
   "execution_count": null,
   "metadata": {
    "hidden": true
   },
   "outputs": [],
   "source": [
    "# Install package into the instance of Python that launched the notebook\n",
    "!pip install QuantStats --quiet"
   ]
  },
  {
   "cell_type": "code",
   "execution_count": null,
   "metadata": {
    "hidden": true
   },
   "outputs": [],
   "source": [
    "# Import quanstats library\n",
    "import quantstats as qs"
   ]
  },
  {
   "cell_type": "code",
   "execution_count": null,
   "metadata": {
    "hidden": true
   },
   "outputs": [],
   "source": [
    "# Specify excel file location (works on Mac & Windows)\n",
    "filename = Path(\"stock_report/stock_report.xlsx\")\n",
    "\n",
    "# Open Workbook\n",
    "wb = xw.Book(filename)\n",
    "\n",
    "# Select Sheet\n",
    "sht = wb.sheets['Report']"
   ]
  },
  {
   "cell_type": "code",
   "execution_count": null,
   "metadata": {
    "hidden": true
   },
   "outputs": [],
   "source": [
    "def generate_stock_report_as_pdf():\n",
    "    \n",
    "    # --- EXCEL DATA ---\n",
    "    # Get the ticker symbol from Worksheet\n",
    "    ticker = sht.range('B3').value  \n",
    "    \n",
    "    ####################################################################\n",
    "    \n",
    "    # --- DO SOMETHING WITH THE EXCEL DATA IN PYTHON ---    \n",
    "    # Fetch the daily returns for a stock \n",
    "    stock = qs.utils.download_returns(ticker)\n",
    "\n",
    "    # Image location\n",
    "    snapshot_path = Path('snapshot.png')\n",
    "    heatmap_path = Path('return_heatmap.png')\n",
    "\n",
    "    # Title of Snapshot Report\n",
    "    title = f\"{ticker} Performance\"\n",
    "\n",
    "    # Generate snapshot report of any given ticker symbol\n",
    "    stock_snapshot = qs.plots.snapshot(stock,  \n",
    "                                      title=title, \n",
    "                                      savefig=snapshot_path,\n",
    "                                      show=False)\n",
    "\n",
    "    # Generate montly return heatmap\n",
    "    stock_heatmap = qs.plots.monthly_heatmap(stock, \n",
    "                                             savefig=heatmap_path,\n",
    "                                             show=False)\n",
    "    \n",
    "    ######################################################################    \n",
    "    \n",
    "    # --- RETURN RESULT BACK TO EXCEL ---\n",
    "    # Add Picutures to Excel\n",
    "    sht.pictures.add(snapshot_path.absolute(), \n",
    "                     name='snapshot', \n",
    "                     update=True)\n",
    "    sht.pictures.add(heatmap_path.absolute(), \n",
    "                     name='heatmap', \n",
    "                     update=True)\n",
    "\n",
    "    # Save PDF Report\n",
    "    wb.to_pdf('stockreport')\n",
    "    \n",
    "    return None"
   ]
  },
  {
   "cell_type": "code",
   "execution_count": null,
   "metadata": {
    "hidden": true
   },
   "outputs": [],
   "source": [
    "# Generate Stock Report and save as PDF\n",
    "generate_stock_report_as_pdf()"
   ]
  },
  {
   "cell_type": "code",
   "execution_count": null,
   "metadata": {
    "hidden": true
   },
   "outputs": [],
   "source": []
  }
 ],
 "metadata": {
  "kernelspec": {
   "display_name": "Python 3 (ipykernel)",
   "language": "python",
   "name": "python3"
  },
  "language_info": {
   "codemirror_mode": {
    "name": "ipython",
    "version": 3
   },
   "file_extension": ".py",
   "mimetype": "text/x-python",
   "name": "python",
   "nbconvert_exporter": "python",
   "pygments_lexer": "ipython3",
   "version": "3.11.1"
  }
 },
 "nbformat": 4,
 "nbformat_minor": 4
}
